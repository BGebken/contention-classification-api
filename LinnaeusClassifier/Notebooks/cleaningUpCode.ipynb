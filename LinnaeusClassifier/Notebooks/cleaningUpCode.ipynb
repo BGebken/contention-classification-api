{
 "cells": [
  {
   "cell_type": "code",
   "execution_count": 1,
   "metadata": {},
   "outputs": [],
   "source": [
    "import numpy as np\n",
    "import pandas as pd\n",
    "\n",
    "from sklearn.feature_extraction.text import CountVectorizer\n",
    "from sklearn.feature_extraction.text import TfidfVectorizer\n",
    "from sklearn.model_selection import train_test_split\n",
    "from sklearn.metrics import accuracy_score, f1_score\n",
    "from sklearn.metrics import precision_recall_fscore_support\n",
    "from sklearn.metrics import confusion_matrix\n",
    "\n",
    "from sklearn.externals import joblib\n",
    "\n",
    "from sklearn.linear_model import LogisticRegression\n",
    "from sklearn.ensemble import RandomForestClassifier\n",
    "from sklearn.model_selection import GridSearchCV\n",
    "from scipy.spatial import distance as dist\n",
    "\n",
    "import time\n",
    "from IPython.display import clear_output"
   ]
  },
  {
   "cell_type": "markdown",
   "metadata": {},
   "source": [
    "# Load Dataset"
   ]
  },
  {
   "cell_type": "code",
   "execution_count": 2,
   "metadata": {},
   "outputs": [
    {
     "name": "stderr",
     "output_type": "stream",
     "text": [
      "/Applications/anaconda3/lib/python3.7/site-packages/IPython/core/interactiveshell.py:3020: DtypeWarning: Columns (3) have mixed types. Specify dtype option on import or set low_memory=False.\n",
      "  interactivity=interactivity, compiler=compiler, result=result)\n",
      "/Applications/anaconda3/lib/python3.7/site-packages/numpy/lib/arraysetops.py:522: FutureWarning: elementwise comparison failed; returning scalar instead, but in the future will perform elementwise comparison\n",
      "  mask |= (ar1 == a)\n"
     ]
    },
    {
     "data": {
      "text/html": [
       "<div>\n",
       "<style scoped>\n",
       "    .dataframe tbody tr th:only-of-type {\n",
       "        vertical-align: middle;\n",
       "    }\n",
       "\n",
       "    .dataframe tbody tr th {\n",
       "        vertical-align: top;\n",
       "    }\n",
       "\n",
       "    .dataframe thead th {\n",
       "        text-align: right;\n",
       "    }\n",
       "</style>\n",
       "<table border=\"1\" class=\"dataframe\">\n",
       "  <thead>\n",
       "    <tr style=\"text-align: right;\">\n",
       "      <th></th>\n",
       "      <th>INDEX</th>\n",
       "      <th>CLMANT_TXT</th>\n",
       "      <th>CNTNTN_CLSFCN_ID</th>\n",
       "      <th>CNTNTN_CLSFCN_TXT</th>\n",
       "      <th>modeClass</th>\n",
       "      <th>newClass</th>\n",
       "    </tr>\n",
       "  </thead>\n",
       "  <tbody>\n",
       "    <tr>\n",
       "      <th>0</th>\n",
       "      <td>1</td>\n",
       "      <td>diabetes mellitus type 2</td>\n",
       "      <td>2085</td>\n",
       "      <td>diabetes mellitus type 2</td>\n",
       "      <td>endocrine</td>\n",
       "      <td>endocrine</td>\n",
       "    </tr>\n",
       "    <tr>\n",
       "      <th>1</th>\n",
       "      <td>2</td>\n",
       "      <td>diabetes mellitus type 2</td>\n",
       "      <td>2085</td>\n",
       "      <td>diabetes mellitus type 2</td>\n",
       "      <td>endocrine</td>\n",
       "      <td>endocrine</td>\n",
       "    </tr>\n",
       "    <tr>\n",
       "      <th>2</th>\n",
       "      <td>3</td>\n",
       "      <td>special monthly pension</td>\n",
       "      <td>8917</td>\n",
       "      <td>miscellaneous</td>\n",
       "      <td>pension aid and attendance housebound</td>\n",
       "      <td>pension - aid and attendence/housebound</td>\n",
       "    </tr>\n",
       "    <tr>\n",
       "      <th>3</th>\n",
       "      <td>4</td>\n",
       "      <td>special monthly pension</td>\n",
       "      <td>8917</td>\n",
       "      <td>miscellaneous</td>\n",
       "      <td>pension aid and attendance housebound</td>\n",
       "      <td>pension - aid and attendence/housebound</td>\n",
       "    </tr>\n",
       "    <tr>\n",
       "      <th>4</th>\n",
       "      <td>5</td>\n",
       "      <td>adjustment disorder</td>\n",
       "      <td>2030</td>\n",
       "      <td>depression</td>\n",
       "      <td>mental disorders</td>\n",
       "      <td>mental disorders</td>\n",
       "    </tr>\n",
       "  </tbody>\n",
       "</table>\n",
       "</div>"
      ],
      "text/plain": [
       "   INDEX                CLMANT_TXT CNTNTN_CLSFCN_ID         CNTNTN_CLSFCN_TXT  \\\n",
       "0      1  diabetes mellitus type 2             2085  diabetes mellitus type 2   \n",
       "1      2  diabetes mellitus type 2             2085  diabetes mellitus type 2   \n",
       "2      3   special monthly pension             8917             miscellaneous   \n",
       "3      4   special monthly pension             8917             miscellaneous   \n",
       "4      5       adjustment disorder             2030                depression   \n",
       "\n",
       "                               modeClass  \\\n",
       "0                              endocrine   \n",
       "1                              endocrine   \n",
       "2  pension aid and attendance housebound   \n",
       "3  pension aid and attendance housebound   \n",
       "4                       mental disorders   \n",
       "\n",
       "                                  newClass  \n",
       "0                                endocrine  \n",
       "1                                endocrine  \n",
       "2  pension - aid and attendence/housebound  \n",
       "3  pension - aid and attendence/housebound  \n",
       "4                         mental disorders  "
      ]
     },
     "execution_count": 2,
     "metadata": {},
     "output_type": "execute_result"
    }
   ],
   "source": [
    "df = pd.read_csv('../data/CleanData.csv', index_col=0)\n",
    "df.head()"
   ]
  },
  {
   "cell_type": "code",
   "execution_count": 3,
   "metadata": {},
   "outputs": [
    {
     "data": {
      "text/plain": [
       "(6324799, 6)"
      ]
     },
     "execution_count": 3,
     "metadata": {},
     "output_type": "execute_result"
    }
   ],
   "source": [
    "df.shape"
   ]
  },
  {
   "cell_type": "code",
   "execution_count": 4,
   "metadata": {},
   "outputs": [
    {
     "data": {
      "text/plain": [
       "(6324248, 6)"
      ]
     },
     "execution_count": 4,
     "metadata": {},
     "output_type": "execute_result"
    }
   ],
   "source": [
    "df = df[df['CLMANT_TXT'].str.len() < 300]\n",
    "df.shape"
   ]
  },
  {
   "cell_type": "markdown",
   "metadata": {},
   "source": [
    "# Lets remove from df things that dont have a label that coincides with the official classes but keep them in a different dataframe for later."
   ]
  },
  {
   "cell_type": "code",
   "execution_count": 5,
   "metadata": {},
   "outputs": [],
   "source": [
    "dfOut = df[(~df['CLMANT_TXT'].isnull()) & (df['newClass'].isnull())]\n",
    "df = df[(~df['CLMANT_TXT'].isnull()) & (~df['newClass'].isnull())]"
   ]
  },
  {
   "cell_type": "markdown",
   "metadata": {},
   "source": [
    "# Initialize a Count Vectorizer with a minimum of 10 appearance of a word for significance, english stopwords and up to 3 word ngrams."
   ]
  },
  {
   "cell_type": "code",
   "execution_count": 6,
   "metadata": {},
   "outputs": [],
   "source": [
    "vectorizer = CountVectorizer(min_df=10, ngram_range=(1,3), stop_words='english') \n",
    "#vectorizer = TfidfVectorizer(min_df=10, ngram_range=(1,3), stop_words='english')"
   ]
  },
  {
   "cell_type": "code",
   "execution_count": 7,
   "metadata": {},
   "outputs": [],
   "source": [
    "X = vectorizer.fit_transform(df['CLMANT_TXT'])"
   ]
  },
  {
   "cell_type": "code",
   "execution_count": 8,
   "metadata": {},
   "outputs": [],
   "source": [
    "y = np.array(df['newClass'])"
   ]
  },
  {
   "cell_type": "code",
   "execution_count": 9,
   "metadata": {},
   "outputs": [
    {
     "data": {
      "text/plain": [
       "<1x201833 sparse matrix of type '<class 'numpy.int64'>'\n",
       "\twith 6 stored elements in Compressed Sparse Row format>"
      ]
     },
     "execution_count": 9,
     "metadata": {},
     "output_type": "execute_result"
    }
   ],
   "source": [
    "X[:1]"
   ]
  },
  {
   "cell_type": "code",
   "execution_count": 10,
   "metadata": {},
   "outputs": [
    {
     "data": {
      "text/plain": [
       "array(['endocrine', 'endocrine',\n",
       "       'pension - aid and attendence/housebound', ...,\n",
       "       'pension - aid and attendence/housebound',\n",
       "       'musculoskeletal - knee',\n",
       "       'post traumatic stress disorder (ptsd) combat - mental disorders'],\n",
       "      dtype=object)"
      ]
     },
     "execution_count": 10,
     "metadata": {},
     "output_type": "execute_result"
    }
   ],
   "source": [
    "y"
   ]
  },
  {
   "cell_type": "markdown",
   "metadata": {},
   "source": [
    "# Split first to obtain Training set"
   ]
  },
  {
   "cell_type": "code",
   "execution_count": 11,
   "metadata": {},
   "outputs": [],
   "source": [
    "X_train, X_test, y_train, y_test, i_train, i_test = train_test_split(X, y, df.index, test_size=0.7, random_state=42)"
   ]
  },
  {
   "cell_type": "markdown",
   "metadata": {},
   "source": [
    "# Initialize a Logistic Regression Classifier"
   ]
  },
  {
   "cell_type": "code",
   "execution_count": 12,
   "metadata": {},
   "outputs": [],
   "source": [
    "clf = LogisticRegression(multi_class='ovr', solver='lbfgs', n_jobs=-1)"
   ]
  },
  {
   "cell_type": "code",
   "execution_count": 13,
   "metadata": {},
   "outputs": [
    {
     "data": {
      "text/plain": [
       "LogisticRegression(C=1.0, class_weight=None, dual=False, fit_intercept=True,\n",
       "          intercept_scaling=1, max_iter=100, multi_class='ovr', n_jobs=-1,\n",
       "          penalty='l2', random_state=None, solver='lbfgs', tol=0.0001,\n",
       "          verbose=0, warm_start=False)"
      ]
     },
     "execution_count": 13,
     "metadata": {},
     "output_type": "execute_result"
    }
   ],
   "source": [
    "clf.fit(X_train, y_train)"
   ]
  },
  {
   "cell_type": "markdown",
   "metadata": {},
   "source": [
    "# Predict the value of our testing set"
   ]
  },
  {
   "cell_type": "code",
   "execution_count": 14,
   "metadata": {},
   "outputs": [
    {
     "data": {
      "text/plain": [
       "array(['musculoskeletal - ankle', 'hearing loss', 'respiratory', ...,\n",
       "       'musculoskeletal - foot', 'unemployability', 'skin'], dtype=object)"
      ]
     },
     "execution_count": 14,
     "metadata": {},
     "output_type": "execute_result"
    }
   ],
   "source": [
    "y_pred = clf.predict(X_test)\n",
    "y_pred"
   ]
  },
  {
   "cell_type": "code",
   "execution_count": 15,
   "metadata": {},
   "outputs": [
    {
     "data": {
      "text/plain": [
       "array(['musculoskeletal - ankle', 'hearing loss', 'respiratory',\n",
       "       'musculoskeletal - neck/upper back (cervical spine)',\n",
       "       'musculoskeletal - shoulder', 'musculoskeletal - foot',\n",
       "       'musculoskeletal - foot', 'heart/veins/arteries',\n",
       "       'mental disorders',\n",
       "       'musculoskeletal - mid/lower back (thoracolumbar spine)',\n",
       "       'leg condition - neurological other system',\n",
       "       'neurological - cranial/peripheral nerves',\n",
       "       'special monthly compensation - aid and attendence/housebound',\n",
       "       'post traumatic stress disorder (ptsd) combat - mental disorders',\n",
       "       'musculoskeletal - mid/lower back (thoracolumbar spine)', 'skin',\n",
       "       'musculoskeletal - hand', 'musculoskeletal - arthritis',\n",
       "       'respiratory', 'neurological - cranial/peripheral nerves',\n",
       "       'musculoskeletal - shoulder', 'administrative issue',\n",
       "       'respiratory', 'hearing loss', 'scars (extremeties and trunk)',\n",
       "       'endocrine', 'genitourinary', 'musculoskeletal - knee',\n",
       "       'musculoskeletal - foot', 'pension', 'musculoskeletal - knee',\n",
       "       'ear disease and other sense organs', 'administrative issue',\n",
       "       'musculoskeletal - knee',\n",
       "       'special monthly compensation - aid and attendence/housebound',\n",
       "       'hearing loss', 'respiratory', 'genitourinary',\n",
       "       'administrative issue', 'respiratory', 'digestive', 'hearing loss',\n",
       "       'neurological - cranial/peripheral nerves', 'mental disorders',\n",
       "       'musculoskeletal - knee',\n",
       "       'neurological - cranial/peripheral nerves', 'hearing loss',\n",
       "       'neurological - cranial/peripheral nerves', 'genitourinary',\n",
       "       'musculoskeletal - mid/lower back (thoracolumbar spine)',\n",
       "       'musculoskeletal - hand', 'respiratory', 'musculoskeletal - knee',\n",
       "       'musculoskeletal - ankle', 'administrative issue', 'hearing loss',\n",
       "       'hemic and lymphatic', 'endocrine', 'cancer - genitourinary',\n",
       "       'hearing loss', 'respiratory', 'mental disorders',\n",
       "       'musculoskeletal - mid/lower back (thoracolumbar spine)', 'skin',\n",
       "       'musculoskeletal and muscle injuries', 'musculoskeletal - hip',\n",
       "       'musculoskeletal - mid/lower back (thoracolumbar spine)',\n",
       "       'respiratory', 'pension', 'mental disorders', 'hearing loss',\n",
       "       'genitourinary', 'genitourinary', 'mental disorders',\n",
       "       'post traumatic stress disorder (ptsd) combat - mental disorders',\n",
       "       'musculoskeletal - neck/upper back (cervical spine)',\n",
       "       'scars (extremeties and trunk)', 'digestive', 'hearing loss',\n",
       "       'musculoskeletal - knee', 'hearing loss', 'musculoskeletal - knee',\n",
       "       'musculoskeletal - mid/lower back (thoracolumbar spine)', 'skin',\n",
       "       'post traumatic stress disorder (ptsd) combat - mental disorders',\n",
       "       'heart/veins/arteries', 'heart/veins/arteries',\n",
       "       'cyst/benign growth - musculoskeletal - knee',\n",
       "       'administrative issue', 'eye (vision)',\n",
       "       'post traumatic stress disorder (ptsd) combat - mental disorders',\n",
       "       'unemployability', 'musculoskeletal - knee',\n",
       "       'neurological - cranial/peripheral nerves',\n",
       "       'musculoskeletal - shoulder', 'hearing loss',\n",
       "       'neurological - cranial/peripheral nerves', 'digestive',\n",
       "       'respiratory', 'heart/veins/arteries'], dtype=object)"
      ]
     },
     "execution_count": 15,
     "metadata": {},
     "output_type": "execute_result"
    }
   ],
   "source": [
    "y_pred[:100]"
   ]
  },
  {
   "cell_type": "code",
   "execution_count": 17,
   "metadata": {},
   "outputs": [
    {
     "data": {
      "text/plain": [
       "['musculoskeletal - ankle',\n",
       " 'hearing loss',\n",
       " 'respiratory',\n",
       " 'musculoskeletal - neck/upper back (cervical spine)',\n",
       " 'musculoskeletal - shoulder',\n",
       " 'musculoskeletal - foot',\n",
       " 'musculoskeletal - foot',\n",
       " 'heart/veins/arteries',\n",
       " 'mental disorders',\n",
       " 'musculoskeletal - mid/lower back (thoracolumbar spine)',\n",
       " 'neurological other system',\n",
       " 'neurological - cranial/peripheral nerves',\n",
       " 'special monthly compensation - aid and attendence/housebound',\n",
       " 'post traumatic stress disorder (ptsd) combat - mental disorders',\n",
       " 'musculoskeletal - mid/lower back (thoracolumbar spine)',\n",
       " 'skin',\n",
       " 'musculoskeletal - hand',\n",
       " 'musculoskeletal - arthritis',\n",
       " 'respiratory',\n",
       " 'neurological - cranial/peripheral nerves',\n",
       " 'musculoskeletal - shoulder',\n",
       " 'administrative issue',\n",
       " 'respiratory',\n",
       " 'hearing loss',\n",
       " 'scars (extremeties and trunk)',\n",
       " 'endocrine',\n",
       " 'genitourinary',\n",
       " 'musculoskeletal - knee',\n",
       " 'musculoskeletal - foot',\n",
       " 'pension',\n",
       " 'musculoskeletal - knee',\n",
       " 'ear disease and other sense organs',\n",
       " 'administrative issue',\n",
       " 'musculoskeletal - knee',\n",
       " 'special monthly compensation - aid and attendence/housebound',\n",
       " 'hearing loss',\n",
       " 'respiratory',\n",
       " 'genitourinary',\n",
       " 'administrative issue',\n",
       " 'respiratory',\n",
       " 'digestive',\n",
       " 'hearing loss',\n",
       " 'neurological - cranial/peripheral nerves',\n",
       " 'mental disorders',\n",
       " 'musculoskeletal - knee',\n",
       " 'neurological - cranial/peripheral nerves',\n",
       " 'hearing loss',\n",
       " 'musculoskeletal - other',\n",
       " 'genitourinary',\n",
       " 'musculoskeletal - mid/lower back (thoracolumbar spine)',\n",
       " 'musculoskeletal - hand',\n",
       " 'respiratory',\n",
       " 'administrative issue',\n",
       " 'musculoskeletal - ankle',\n",
       " 'administrative issue',\n",
       " 'hearing loss',\n",
       " 'hemic and lymphatic',\n",
       " 'infectious diseases, immune disorders & nutritional deficiencies',\n",
       " 'cancer - genitourinary',\n",
       " 'hearing loss',\n",
       " 'respiratory',\n",
       " 'mental disorders',\n",
       " 'musculoskeletal - mid/lower back (thoracolumbar spine)',\n",
       " 'skin',\n",
       " 'neurological - cranial/peripheral nerves',\n",
       " 'musculoskeletal - hip',\n",
       " 'musculoskeletal - mid/lower back (thoracolumbar spine)',\n",
       " 'respiratory',\n",
       " 'pension',\n",
       " 'mental disorders',\n",
       " 'hearing loss',\n",
       " 'genitourinary',\n",
       " 'genitourinary',\n",
       " 'mental disorders',\n",
       " 'post traumatic stress disorder (ptsd) combat - mental disorders',\n",
       " 'musculoskeletal - neck/upper back (cervical spine)',\n",
       " 'scars (extremeties and trunk)',\n",
       " 'digestive',\n",
       " 'hearing loss',\n",
       " 'musculoskeletal - knee',\n",
       " 'hearing loss',\n",
       " 'musculoskeletal - knee',\n",
       " 'musculoskeletal - other',\n",
       " 'heart/veins/arteries',\n",
       " 'post traumatic stress disorder (ptsd) personal trauma - mental disorders',\n",
       " 'heart/veins/arteries',\n",
       " 'heart/veins/arteries',\n",
       " 'cyst/benign growth - musculoskeletal - knee',\n",
       " 'administrative issue',\n",
       " 'eye (vision)',\n",
       " 'post traumatic stress disorder (ptsd) combat - mental disorders',\n",
       " 'unemployability',\n",
       " 'musculoskeletal - knee',\n",
       " 'eye (vision)',\n",
       " 'musculoskeletal - shoulder',\n",
       " 'hearing loss',\n",
       " 'neurological other system',\n",
       " 'digestive',\n",
       " 'respiratory',\n",
       " 'heart/veins/arteries']"
      ]
     },
     "execution_count": 17,
     "metadata": {},
     "output_type": "execute_result"
    }
   ],
   "source": [
    "list(y_test)[:100]"
   ]
  },
  {
   "cell_type": "markdown",
   "metadata": {},
   "source": [
    "# Lets check the models accuracy"
   ]
  },
  {
   "cell_type": "code",
   "execution_count": 20,
   "metadata": {},
   "outputs": [
    {
     "data": {
      "text/plain": [
       "array(['hearing loss'], dtype=object)"
      ]
     },
     "execution_count": 20,
     "metadata": {},
     "output_type": "execute_result"
    }
   ],
   "source": [
    "clf.predict(vectorizer.transform(['ringing in my ear']))"
   ]
  },
  {
   "cell_type": "code",
   "execution_count": 21,
   "metadata": {},
   "outputs": [
    {
     "data": {
      "text/plain": [
       "0.9165259551883319"
      ]
     },
     "execution_count": 21,
     "metadata": {},
     "output_type": "execute_result"
    }
   ],
   "source": [
    "clf.score(X_test,y_test)"
   ]
  },
  {
   "cell_type": "markdown",
   "metadata": {},
   "source": [
    "# How about Presicion, Recall and f1 score"
   ]
  },
  {
   "cell_type": "code",
   "execution_count": 22,
   "metadata": {},
   "outputs": [
    {
     "name": "stderr",
     "output_type": "stream",
     "text": [
      "/Applications/anaconda3/lib/python3.7/site-packages/sklearn/metrics/classification.py:1143: UndefinedMetricWarning: Precision and F-score are ill-defined and being set to 0.0 in labels with no predicted samples.\n",
      "  'precision', 'predicted', average, warn_for)\n"
     ]
    },
    {
     "data": {
      "text/plain": [
       "(0.913663704178678, 0.9165259551883319, 0.9134268738684035, None)"
      ]
     },
     "execution_count": 22,
     "metadata": {},
     "output_type": "execute_result"
    }
   ],
   "source": [
    "precision_recall_fscore_support(y_test, y_pred, average='weighted')"
   ]
  },
  {
   "cell_type": "markdown",
   "metadata": {},
   "source": [
    "# How about a confusion Matrix"
   ]
  },
  {
   "cell_type": "code",
   "execution_count": 23,
   "metadata": {},
   "outputs": [
    {
     "data": {
      "text/plain": [
       "array([[  169,     0,     0, ...,     0,     2,     0],\n",
       "       [    0,    60,     0, ...,     0,     0,     0],\n",
       "       [    1,     0,    66, ...,     0,     0,     0],\n",
       "       ...,\n",
       "       [    0,     0,     0, ...,    55,     0,     0],\n",
       "       [    0,     0,     0, ...,     0, 62403,     2],\n",
       "       [    0,     0,     0, ...,     0,     0,   843]])"
      ]
     },
     "execution_count": 23,
     "metadata": {},
     "output_type": "execute_result"
    }
   ],
   "source": [
    "confusion_matrix(y_test, y_pred)"
   ]
  },
  {
   "cell_type": "code",
   "execution_count": 27,
   "metadata": {},
   "outputs": [],
   "source": [
    "results = pd.DataFrame()\n",
    "results['label'] = y_test\n",
    "results['predictedLabel'] = y_pred\n",
    "results['claims'] = df['CLMANT_TXT'].loc[i_test]\n",
    "results['correctPred'] = results.apply(lambda x: int(x['label'] == x['predictedLabel']), 1)\n",
    "results = results[['claims', 'label', 'predictedLabel', 'correctPred']]\n",
    "results.to_csv('../data/testResults.csv')"
   ]
  },
  {
   "cell_type": "code",
   "execution_count": 28,
   "metadata": {},
   "outputs": [
    {
     "data": {
      "text/plain": [
       "predictedLabel\n",
       "pension - aid and attendence/housebound                                        0.985628\n",
       "pension                                                                        0.985081\n",
       "hearing loss                                                                   0.985028\n",
       "service connected death                                                        0.982091\n",
       "unemployability                                                                0.971888\n",
       "musculoskeletal - shoulder                                                     0.962083\n",
       "musculoskeletal - ankle                                                        0.961514\n",
       "musculoskeletal - knee                                                         0.960883\n",
       "respiratory                                                                    0.960039\n",
       "eye (vision)                                                                   0.959526\n",
       "administrative issue                                                           0.947940\n",
       "musculoskeletal - hip                                                          0.945815\n",
       "musculoskeletal - elbow                                                        0.944728\n",
       "special monthly compensation - aid and attendence/housebound                   0.944562\n",
       "mental disorders                                                               0.942907\n",
       "heart/veins/arteries                                                           0.940166\n",
       "musculoskeletal - wrist                                                        0.934492\n",
       "digestive                                                                      0.934283\n",
       "endocrine                                                                      0.933128\n",
       "musculoskeletal - foot                                                         0.932783\n",
       "post traumatic stress disorder (ptsd) combat - mental disorders                0.928443\n",
       "musculoskeletal - neck/upper back (cervical spine)                             0.923051\n",
       "dental and oral                                                                0.922746\n",
       "cyst/benign growth - musculoskeletal - hip                                     0.917620\n",
       "competency                                                                     0.914547\n",
       "traumatic brain injury                                                         0.908051\n",
       "cyst/benign growth - musculoskeletal - shoulder                                0.905099\n",
       "cancer - genitourinary                                                         0.904803\n",
       "skin                                                                           0.903494\n",
       "birth defect in child                                                          0.900498\n",
       "                                                                                 ...   \n",
       "spina bifida                                                                   0.686869\n",
       "special monthly compensation - anatomical loss/loss of use                     0.686454\n",
       "cyst/benign growth - musculoskeletal - neck/upper back (cervical spine)        0.685333\n",
       "cyst/benign growth - musculoskeletal - mid/lower back (thoracolumbar spine)    0.673774\n",
       "cyst/benign growth - genitourinary                                             0.673246\n",
       "adhesions - digestive                                                          0.670635\n",
       "musculoskeletal - amputations                                                  0.668901\n",
       "hemorrhage - neurological other system                                         0.666667\n",
       "musculoskeletal - other                                                        0.664786\n",
       "arm condition - neurological other system                                      0.663553\n",
       "musculoskeletal - toe amputations                                              0.657084\n",
       "musculoskeletal - osteomyelitis                                                0.655914\n",
       "musculoskeletal and muscle injuries                                            0.633116\n",
       "cyst/benign growth - respiratory                                               0.625000\n",
       "cyst/benign growth - digestive                                                 0.613900\n",
       "helpless child                                                                 0.598499\n",
       "leg condition - heart/veins/arteries                                           0.592827\n",
       "cyst/benign growth - skin                                                      0.591074\n",
       "embolism/infarction - neurological other system                                0.562500\n",
       "cyst/benign growth - musculoskeletal and muscle injuries                       0.562500\n",
       "cancer - musculoskeletal - other                                               0.560467\n",
       "cyst/benign growth - musculoskeletal - other                                   0.544170\n",
       "wound, bullet/shell fragment                                                   0.522629\n",
       "arm condition - heart/veins/arteries                                           0.519231\n",
       "embolism/infarction - heart/veins/arteries                                     0.518519\n",
       "hemorrhage - eye (vision)                                                      0.468750\n",
       "adhesions - respiratory                                                        0.461538\n",
       "adhesions - neurological other system                                          0.368421\n",
       "herpes - eye (vision)                                                          0.000000\n",
       "herpes - skin                                                                  0.000000\n",
       "Name: correctPred, Length: 106, dtype: float64"
      ]
     },
     "execution_count": 28,
     "metadata": {},
     "output_type": "execute_result"
    }
   ],
   "source": [
    "results.groupby('predictedLabel')['correctPred'].mean().sort_values(ascending=False)"
   ]
  },
  {
   "cell_type": "code",
   "execution_count": 29,
   "metadata": {},
   "outputs": [
    {
     "data": {
      "text/plain": [
       "label\n",
       "hearing loss                                                       0.993904\n",
       "pension                                                            0.986565\n",
       "service connected death                                            0.982001\n",
       "musculoskeletal - knee                                             0.975812\n",
       "musculoskeletal - ankle                                            0.973834\n",
       "musculoskeletal - shoulder                                         0.973624\n",
       "pension - aid and attendence/housebound                            0.972173\n",
       "respiratory                                                        0.967944\n",
       "eye (vision)                                                       0.965917\n",
       "musculoskeletal - hip                                              0.963797\n",
       "post traumatic stress disorder (ptsd) combat - mental disorders    0.961109\n",
       "unemployability                                                    0.959839\n",
       "heart/veins/arteries                                               0.957876\n",
       "musculoskeletal - foot                                             0.954648\n",
       "musculoskeletal - mid/lower back (thoracolumbar spine)             0.954154\n",
       "mental disorders                                                   0.952328\n",
       "musculoskeletal - elbow                                            0.950682\n",
       "traumatic brain injury                                             0.945460\n",
       "digestive                                                          0.940705\n",
       "cancer - genitourinary                                             0.938405\n",
       "musculoskeletal - wrist                                            0.937499\n",
       "administrative issue                                               0.932712\n",
       "dental and oral                                                    0.932514\n",
       "musculoskeletal - hand                                             0.929303\n",
       "musculoskeletal - neck/upper back (cervical spine)                 0.916613\n",
       "genitourinary                                                      0.900859\n",
       "endocrine                                                          0.894146\n",
       "skin                                                               0.892906\n",
       "special monthly compensation - aid and attendence/housebound       0.890362\n",
       "scars (extremeties and trunk)                                      0.888538\n",
       "neurological - cranial/peripheral nerves                           0.875815\n",
       "competency                                                         0.863593\n",
       "Name: correctPred, dtype: float64"
      ]
     },
     "execution_count": 29,
     "metadata": {},
     "output_type": "execute_result"
    }
   ],
   "source": [
    "results.groupby('label')['correctPred'].mean().sort_values(ascending=False)[:32]"
   ]
  },
  {
   "cell_type": "code",
   "execution_count": null,
   "metadata": {},
   "outputs": [],
   "source": []
  },
  {
   "cell_type": "code",
   "execution_count": 30,
   "metadata": {},
   "outputs": [
    {
     "data": {
      "text/plain": [
       "['../modelsAndTransformations/LRclf.pkl']"
      ]
     },
     "execution_count": 30,
     "metadata": {},
     "output_type": "execute_result"
    }
   ],
   "source": [
    "# save the vectorizer object as vectorizer.pkl\n",
    "joblib.dump(vectorizer, filename='../modelsAndTransformations/vectorizer.pkl')\n",
    "\n",
    "# save the classifier object as LRclf.pkl\n",
    "joblib.dump(clf, filename='../modelsAndTransformations/LRclf.pkl')"
   ]
  },
  {
   "cell_type": "code",
   "execution_count": null,
   "metadata": {},
   "outputs": [],
   "source": []
  }
 ],
 "metadata": {
  "kernelspec": {
   "display_name": "Python 3",
   "language": "python",
   "name": "python3"
  },
  "language_info": {
   "codemirror_mode": {
    "name": "ipython",
    "version": 3
   },
   "file_extension": ".py",
   "mimetype": "text/x-python",
   "name": "python",
   "nbconvert_exporter": "python",
   "pygments_lexer": "ipython3",
   "version": "3.7.1"
  }
 },
 "nbformat": 4,
 "nbformat_minor": 2
}
