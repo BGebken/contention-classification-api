{
 "cells": [
  {
   "cell_type": "code",
   "execution_count": null,
   "metadata": {},
   "outputs": [],
   "source": [
    "import pandas as pd\n",
    "import numpy as np\n",
    "from sklearn.feature_extraction.text import CountVectorizer\n",
    "from sklearn.feature_extraction.text import TfidfVectorizer\n",
    "from sklearn.model_selection import train_test_split\n",
    "from sklearn.ensemble import RandomForestClassifier\n",
    "from scipy.spatial import distance as dist\n",
    "import time\n",
    "from IPython.display import clear_output"
   ]
  },
  {
   "cell_type": "code",
   "execution_count": null,
   "metadata": {},
   "outputs": [],
   "source": [
    "def minimumEditDistance(s1,s2):\n",
    "    if len(s1) > len(s2):\n",
    "        s1,s2 = s2,s1\n",
    "    distances = range(len(s1) + 1)\n",
    "    for index2,char2 in enumerate(s2):\n",
    "        newDistances = [index2+1]\n",
    "        for index1,char1 in enumerate(s1):\n",
    "            if char1 == char2:\n",
    "                newDistances.append(distances[index1])\n",
    "            else:\n",
    "                newDistances.append(1 + min((distances[index1],\n",
    "                                             distances[index1+1],\n",
    "                                             newDistances[-1])))\n",
    "        distances = newDistances\n",
    "    return distances[-1]\n",
    " \n",
    "print(minimumEditDistance(\"kitten\",\"sitting\"))\n",
    "print(minimumEditDistance(\"rosettacode\",\"raisethysword\"))"
   ]
  },
  {
   "cell_type": "code",
   "execution_count": null,
   "metadata": {},
   "outputs": [],
   "source": [
    "dfL = pd.read_csv('Large_Training.csv')\n",
    "dfL.head()"
   ]
  },
  {
   "cell_type": "code",
   "execution_count": null,
   "metadata": {},
   "outputs": [],
   "source": [
    "dfL.tail()"
   ]
  },
  {
   "cell_type": "code",
   "execution_count": null,
   "metadata": {},
   "outputs": [],
   "source": [
    "dfL = dfL.drop('INDEX', 1)"
   ]
  },
  {
   "cell_type": "code",
   "execution_count": null,
   "metadata": {},
   "outputs": [],
   "source": [
    "dfL['CLMANT_TXT'] = dfL.apply(lambda x: x['CLMANT_TXT'].lower().strip(), 1)\n",
    "dfL['CNTNTN_CLSFCN_TXT'] = dfL.apply(lambda x: x['CNTNTN_CLSFCN_TXT'].lower().strip(), 1)"
   ]
  },
  {
   "cell_type": "code",
   "execution_count": null,
   "metadata": {},
   "outputs": [],
   "source": [
    "dfC = pd.read_excel('Contention_Dictionary.xlsx')\n",
    "#dfC.apply(lambda x: x['New Contention Classification Text'].strip(), 1)\n",
    "\n",
    "Classifications = list(dfC.apply(lambda x: x['New Contention Classification Text'].lower().strip(), 1))\n",
    "\n",
    "oldC = dfL['CNTNTN_CLSFCN_TXT'].unique()\n",
    "\n",
    "DoC = {}\n",
    "for el in oldC:\n",
    "    clear_output()\n",
    "    temp = ''\n",
    "    for clas in Classifications:\n",
    "        if ((1. - (1.*minimumEditDistance(el, clas)/max(len(el), len(clas)))) >= .8) and ((1. - (1.*minimumEditDistance(el, clas)/max(len(el), len(clas)))) > (1. - (1.*minimumEditDistance(el, temp)/max(len(el), len(temp))))):\n",
    "            DoC[el] = clas\n",
    "            temp = clas\n",
    "    print(len(DoC))\n",
    "\n",
    "DoC"
   ]
  },
  {
   "cell_type": "code",
   "execution_count": null,
   "metadata": {},
   "outputs": [],
   "source": [
    "dflt = dfL[dfL['CNTNTN_CLSFCN_TXT'].isin(DoC.keys())]\n",
    "dflr = dfL[~dfL['CNTNTN_CLSFCN_TXT'].isin(DoC.keys())]\n",
    "print(dflt.shape)\n",
    "print(dflr.shape)"
   ]
  },
  {
   "cell_type": "code",
   "execution_count": null,
   "metadata": {},
   "outputs": [],
   "source": [
    "dflt.shape[0]/dfL.shape[0]"
   ]
  },
  {
   "cell_type": "code",
   "execution_count": null,
   "metadata": {},
   "outputs": [],
   "source": [
    "dNew = dflt.groupby('CLMANT_TXT').agg(lambda x:x['CNTNTN_CLSFCN_TXT'].value_counts().index[0]).reset_index()\n",
    "dNew"
   ]
  },
  {
   "cell_type": "code",
   "execution_count": null,
   "metadata": {},
   "outputs": [],
   "source": []
  },
  {
   "cell_type": "code",
   "execution_count": null,
   "metadata": {},
   "outputs": [],
   "source": [
    "dSC = {}\n",
    "for index, row in dNew.iterrows():\n",
    "    dSC[row['CLMANT_TXT']] = row['CNTNTN_CLSFCN_TXT']"
   ]
  },
  {
   "cell_type": "code",
   "execution_count": null,
   "metadata": {},
   "outputs": [],
   "source": [
    "del dSC['']"
   ]
  },
  {
   "cell_type": "code",
   "execution_count": null,
   "metadata": {},
   "outputs": [],
   "source": [
    "del dSC['0']"
   ]
  },
  {
   "cell_type": "code",
   "execution_count": null,
   "metadata": {},
   "outputs": [],
   "source": [
    "dfL['modeClass'] = dfL.apply(lambda x: dSC[x['CLMANT_TXT']] if x['CLMANT_TXT'] in dSC.keys() else None, 1)"
   ]
  },
  {
   "cell_type": "code",
   "execution_count": null,
   "metadata": {},
   "outputs": [],
   "source": [
    "dfL['newClass'] = dfL.apply(lambda x: DoC[x['modeClass']] if x['modeClass'] in DoC.keys() else None, 1)\n",
    "dfL.head()"
   ]
  },
  {
   "cell_type": "code",
   "execution_count": null,
   "metadata": {},
   "outputs": [],
   "source": [
    "dfL.to_csv('../data/CleanDataCC.csv')"
   ]
  }
 ],
 "metadata": {
  "kernelspec": {
   "display_name": "Python 3",
   "language": "python",
   "name": "python3"
  },
  "language_info": {
   "codemirror_mode": {
    "name": "ipython",
    "version": 3
   },
   "file_extension": ".py",
   "mimetype": "text/x-python",
   "name": "python",
   "nbconvert_exporter": "python",
   "pygments_lexer": "ipython3",
   "version": "3.7.1"
  }
 },
 "nbformat": 4,
 "nbformat_minor": 2
}
